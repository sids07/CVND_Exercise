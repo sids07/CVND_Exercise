{
 "cells": [
  {
   "cell_type": "markdown",
   "metadata": {
    "collapsed": true
   },
   "source": [
    "# Identity Matrix\n",
    "\n",
    "Write a function called identity_matrix that outputs an identity matrix of size n.\n",
    "\n",
    "INPUT\n",
    "* n - size of the Identity matrix\n",
    "\n",
    "OUPUT\n",
    "* identity matrix as a list of lists\n",
    "\n",
    "\n",
    "HINTS\n",
    "* nested for loops will be helpful\n",
    "* the one values are always on the diagonal. To access diagonal values in a list of lists will occur where i = j\n",
    "* whenever i does not equal j, the value in the matrix should be 0"
   ]
  },
  {
   "cell_type": "code",
   "execution_count": 1,
   "metadata": {},
   "outputs": [],
   "source": [
    "def identity_matrix(n):\n",
    "    \n",
    "    identity = []\n",
    "    for i in range(n):\n",
    "        new =[]\n",
    "        for j in range(n):\n",
    "            if(i==j):\n",
    "                a=1\n",
    "            else:\n",
    "                a=0\n",
    "            new.append(a)\n",
    "        identity.append(new)\n",
    "                \n",
    "    # TODO: Write a nested for loop to iterate over the rows and\n",
    "    # columns of the identity matrix. Remember that identity\n",
    "    # matrices are square so they have the same number of rows\n",
    "    # and columns\n",
    "    \n",
    "    # Make sure to assign 1 to the diagonal values and 0 everywhere\n",
    "    # else\n",
    "    \n",
    "    return identity"
   ]
  },
  {
   "cell_type": "code",
   "execution_count": 2,
   "metadata": {},
   "outputs": [],
   "source": [
    "# TODO: Run this cell to see if your answers are as expected\n",
    "\n",
    "assert identity_matrix(1) == [[1]]\n",
    "\n",
    "assert identity_matrix(2) == [[1, 0], \n",
    "                             [0, 1]]\n",
    "\n",
    "assert identity_matrix(3) == [[1, 0, 0],\n",
    "                             [0, 1, 0],\n",
    "                             [0, 0, 1]]\n",
    "\n",
    "assert identity_matrix(4) == [[1, 0, 0, 0],\n",
    "                             [0, 1, 0, 0],\n",
    "                             [0, 0, 1, 0],\n",
    "                             [0, 0, 0, 1]]"
   ]
  },
  {
   "cell_type": "markdown",
   "metadata": {},
   "source": [
    "# Multiplication with the Identity Matrix\n",
    "\n",
    "Copy your matrix multiplication function in the code cell below. Try multiplying a matrix with an identity matrix to prove to yourself that the identity matrix is analogous to multiplyin a scalar by one."
   ]
  },
  {
   "cell_type": "code",
   "execution_count": 3,
   "metadata": {},
   "outputs": [],
   "source": [
    "# TODO: Copy your matrix multiplication function and any other helper\n",
    "# funcitons here from the previous exercises\n",
    "def transpose(matrix):\n",
    "    matrix_transpose = []\n",
    "    for i in range(len(matrix[0])):\n",
    "        n =[]\n",
    "        for j in range(len(matrix)):\n",
    "            a = matrix[j][i]\n",
    "            n.append(a)\n",
    "        matrix_transpose.append(n)\n",
    "    \n",
    "    return matrix_transpose\n",
    "\n",
    "# Copy of the previously made dot_product() function\n",
    "def dot_product(vectorA, vectorB):\n",
    "    result = 0\n",
    "    \n",
    "    for i in range(len(vectorA)):\n",
    "        result += vectorA[i] * vectorB[i]\n",
    "        \n",
    "    return result\n",
    "\n",
    "# Takes in two matrices and outputs the product of the two matrices\n",
    "def matrix_multiplication(matrixA, matrixB):\n",
    "    product = []\n",
    "\n",
    "    # Take the transpose of matrixB and store the result\n",
    "    transposeB = transpose(matrixB)\n",
    "    \n",
    "    # Use a nested for loop to iterate through the rows\n",
    "    # of matrix A and the rows of the tranpose of matrix B\n",
    "    for r1 in range(len(matrixA)):\n",
    "        new_row = []\n",
    "        for r2 in range(len(transposeB)):\n",
    "            # Calculate the dot product between each row of matrix A\n",
    "            # with each row in the transpose of matrix B\n",
    "            dp = dot_product(matrixA[r1], transposeB[r2])\n",
    "            new_row.append(dp)\n",
    "        # Store the results in the product variable\n",
    "        product.append(new_row)\n",
    "\n",
    "    return product"
   ]
  },
  {
   "cell_type": "code",
   "execution_count": 4,
   "metadata": {},
   "outputs": [],
   "source": [
    "# TODO: Run this cell to see if your results are as expected.\n",
    "\n",
    "m = [[5, 9, 2, 4],\n",
    "     [3, 8, 5, 6],\n",
    "     [1, 0, 0, 15]]\n",
    "\n",
    "assert matrix_multiplication(m, identity_matrix(4)) == m\n",
    "assert matrix_multiplication(identity_matrix(3), m) == m"
   ]
  },
  {
   "cell_type": "code",
   "execution_count": null,
   "metadata": {},
   "outputs": [],
   "source": []
  }
 ],
 "metadata": {
  "kernelspec": {
   "display_name": "Python 3",
   "language": "python",
   "name": "python3"
  },
  "language_info": {
   "codemirror_mode": {
    "name": "ipython",
    "version": 3
   },
   "file_extension": ".py",
   "mimetype": "text/x-python",
   "name": "python",
   "nbconvert_exporter": "python",
   "pygments_lexer": "ipython3",
   "version": "3.6.9"
  }
 },
 "nbformat": 4,
 "nbformat_minor": 2
}
