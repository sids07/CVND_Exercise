{
 "cells": [
  {
   "cell_type": "markdown",
   "metadata": {},
   "source": [
    "# 1D Kalman Filter\n",
    "\n",
    "Now, you're ready to implement a 1D Kalman Filter by putting all these steps together. Let's take the case of a robot that moves through the world. As a robot moves through the world it locates itself by performing a cycle of:\n",
    "1. sensing and performing a measurement update and\n",
    "2. moving and performing a motion update\n",
    "\n",
    "You've programmed each of these steps individually, so now let's combine them in a cycle!\n",
    "\n",
    "After implementing this filter, you should see that you can go from a very uncertain location Gaussian to a more and more certain Gaussian, as pictured below. The code in this notebooks is really just a simplified version of the Kalman filter that runs in the Google self-driving car that is used to track surrounding vehicles and other objects.\n",
    "\n",
    "<img src='images/gaussian_updates.png' height=70% width=70% />\n",
    "\n",
    "---"
   ]
  },
  {
   "cell_type": "markdown",
   "metadata": {},
   "source": [
    "Below is our usual Gaussian equation and imports."
   ]
  },
  {
   "cell_type": "code",
   "execution_count": 1,
   "metadata": {},
   "outputs": [],
   "source": [
    "# import math functions\n",
    "from math import *\n",
    "import matplotlib.pyplot as plt\n",
    "import numpy as np\n",
    "\n",
    "# gaussian function\n",
    "def f(mu, sigma2, x):\n",
    "    ''' f takes in a mean and squared variance, and an input x\n",
    "       and returns the gaussian value.'''\n",
    "    coefficient = 1.0 / sqrt(2.0 * pi *sigma2)\n",
    "    exponential = exp(-0.5 * (x-mu) ** 2 / sigma2)\n",
    "    return coefficient * exponential\n",
    " "
   ]
  },
  {
   "cell_type": "markdown",
   "metadata": {},
   "source": [
    "You've also been given the complete `update` code that performs a parameter update when an initial belief and new measurement information are merged. And the complete `predict` code that performs an update to a Gasuuain after a motion is incorporated."
   ]
  },
  {
   "cell_type": "code",
   "execution_count": 2,
   "metadata": {},
   "outputs": [],
   "source": [
    "# the update function\n",
    "def update(mean1, var1, mean2, var2):\n",
    "    ''' This function takes in two means and two squared variance terms,\n",
    "        and returns updated gaussian parameters.'''\n",
    "    # Calculate the new parameters\n",
    "    new_mean = (var2*mean1 + var1*mean2)/(var2+var1)\n",
    "    new_var = 1/(1/var2 + 1/var1)\n",
    "    \n",
    "    return [new_mean, new_var]\n",
    "\n",
    "\n",
    "# the motion update/predict function\n",
    "def predict(mean1, var1, mean2, var2):\n",
    "    ''' This function takes in two means and two squared variance terms,\n",
    "        and returns updated gaussian parameters, after motion.'''\n",
    "    # Calculate the new parameters\n",
    "    new_mean = mean1 + mean2\n",
    "    new_var = var1 + var2\n",
    "    \n",
    "    return [new_mean, new_var]"
   ]
  },
  {
   "cell_type": "markdown",
   "metadata": {},
   "source": [
    "### QUIZ: For the given measurements and motions, write complete 1D Kalman filter code that loops through all of these in order.\n",
    "\n",
    "Your complete code should look at sensor measurements then motions in that sequence until all updates are done!\n",
    "\n",
    "### Initial Uncertainty\n",
    "\n",
    "You'll see that you are given initial parameters below, and this includes and nitial location estimation, `mu` and squared variance, `sig`. Note that the initial estimate is set to the location 0, and the variance is extremely large; this is a state of high confusion much like the *uniform* distribution we used in the histogram filter. There are also values given for the squared variance associated with the sensor measurements and the motion, since neither of those readings are perfect, either.\n",
    "\n",
    "You should see that even though the initial estimate for location (the initial `mu`) is far from the first measurement, it should catch up fairly quickly as you cycle through measurements and motions."
   ]
  },
  {
   "cell_type": "code",
   "execution_count": 11,
   "metadata": {},
   "outputs": [
    {
     "name": "stdout",
     "output_type": "stream",
     "text": [
      "Update: mu:4.998000799680128,sig:3.9984006397441023\n",
      "Predict: mu:5.998000799680128,sig:5.998400639744102\n",
      "Update: mu:5.999200191953932,sig:2.399744061425258\n",
      "Predict: mu:6.999200191953932,sig:4.399744061425258\n",
      "Update: mu:6.999619127420922,sig:2.0951800575117594\n",
      "Predict: mu:8.999619127420921,sig:4.09518005751176\n",
      "Update: mu:8.999811802788143,sig:2.0235152416216957\n",
      "Predict: mu:9.999811802788143,sig:4.023515241621696\n",
      "Update: mu:9.999906177177365,sig:2.0058615808441944\n",
      "Predict: mu:10.999906177177365,sig:4.005861580844194\n",
      "\n",
      "\n",
      "Final result: [10.999906177177365, 4.005861580844194]\n"
     ]
    }
   ],
   "source": [
    "# measurements for mu and motions, U\n",
    "measurements = [5., 6., 7., 9., 10.]\n",
    "motions = [1., 1., 2., 1., 1.]\n",
    "\n",
    "# initial parameters\n",
    "measurement_sig = 4.\n",
    "motion_sig = 2.\n",
    "mu = 0.\n",
    "sig = 10000.\n",
    "\n",
    "## TODO: Loop through all measurements/motions\n",
    "## Print out and display the resulting Gaussian \n",
    "\n",
    "# your code here\n",
    "for i in range(len(measurements)):\n",
    "    mu,sig = update(mu,sig,measurements[i],measurement_sig)\n",
    "    print(\"Update: mu:{},sig:{}\".format(mu,sig))\n",
    "    mu,sig = predict(mu,sig,motions[i],motion_sig)\n",
    "    print(\"Predict: mu:{},sig:{}\".format(mu,sig))\n",
    "print('\\n')\n",
    "print('Final result: [{}, {}]'.format(mu, sig))"
   ]
  },
  {
   "cell_type": "markdown",
   "metadata": {},
   "source": [
    "#### At first step: mu=4.998 which is close to 5 with sig =3.99 i.e. lower than actual measurement sig as measurement decreases its value. Then for predict(i.e. move) in first case we have motion =1 i.e. mu = 4.998+1 and  sig=3.99+2 as motion_sig=2 and with motion information is lost."
   ]
  },
  {
   "cell_type": "markdown",
   "metadata": {},
   "source": [
    "### Plot a Gaussian\n",
    "\n",
    "Plot a Gaussian by looping through a range of x values and creating a resulting list of Gaussian values, `g`, as shown below. You're encouraged to see what happens if you change the values of `mu` and `sigma2`."
   ]
  },
  {
   "cell_type": "code",
   "execution_count": 9,
   "metadata": {},
   "outputs": [
    {
     "data": {
      "text/plain": [
       "[<matplotlib.lines.Line2D at 0x7f736f3825c0>]"
      ]
     },
     "execution_count": 9,
     "metadata": {},
     "output_type": "execute_result"
    },
    {
     "data": {
      "image/png": "[encoded data removed]",
      "text/plain": [
       "<Figure size 432x288 with 1 Axes>"
      ]
     },
     "metadata": {
      "needs_background": "light"
     },
     "output_type": "display_data"
    }
   ],
   "source": [
    "# display the *initial* gaussian over a range of x values\n",
    "# define the parameters\n",
    "mu = 0\n",
    "sigma2 = 10000\n",
    "\n",
    "# define a range of x values\n",
    "x_axis = np.arange(-20, 20, 0.1)\n",
    "\n",
    "# create a corresponding list of gaussian values\n",
    "g = []\n",
    "for x in x_axis:\n",
    "    g.append(f(mu, sigma2, x))\n",
    "\n",
    "# plot the result \n",
    "plt.plot(x_axis, g)"
   ]
  },
  {
   "cell_type": "code",
   "execution_count": 10,
   "metadata": {},
   "outputs": [
    {
     "name": "stdout",
     "output_type": "stream",
     "text": [
      "Update: mu:1.4999999995499999e-09,sig:1.19999999964e-09\n",
      "Update: mu:1.0000000015,sig:2.0000000012\n",
      "Update: mu:2.6666666683333333,sig:1.3333333338666666\n",
      "Update: mu:3.6666666683333333,sig:3.3333333338666664\n",
      "Update: mu:5.181818182859504,sig:1.8181818183404959\n",
      "Update: mu:7.181818182859504,sig:3.818181818340496\n",
      "Update: mu:8.069767442412115,sig:1.953488372134559\n",
      "Update: mu:9.069767442412115,sig:3.953488372134559\n",
      "Update: mu:9.532163742969939,sig:1.9883040935777572\n",
      "Update: mu:10.532163742969939,sig:3.9883040935777574\n",
      "\n",
      "\n",
      "Final result: [10.532163742969939, 3.9883040935777574]\n"
     ]
    }
   ],
   "source": [
    "# measurements for mu and motions, U\n",
    "measurements = [5., 6., 7., 9., 10.]\n",
    "motions = [1., 1., 2., 1., 1.]\n",
    "\n",
    "# initial parameters\n",
    "measurement_sig = 4.\n",
    "motion_sig = 2.\n",
    "mu = 0.\n",
    "sig = 0.0000000012\n",
    "\n",
    "## TODO: Loop through all measurements/motions\n",
    "## Print out and display the resulting Gaussian \n",
    "\n",
    "# your code here\n",
    "for i in range(len(measurements)):\n",
    "    mu,sig = update(mu,sig,measurements[i],measurement_sig)\n",
    "    print(\"Update: mu:{},sig:{}\".format(mu,sig))\n",
    "    mu,sig = predict(mu,sig,motions[i],motion_sig)\n",
    "    print(\"Update: mu:{},sig:{}\".format(mu,sig))\n",
    "print('\\n')\n",
    "print('Final result: [{}, {}]'.format(mu, sig))"
   ]
  },
  {
   "cell_type": "markdown",
   "metadata": {},
   "source": [
    "#### As initial sigma is too low but mu still has too low score than actual measurement so we get mu value not too close to the exact measurement due to low initial sigma slowly reaching to closer value but still has higher uncertainity"
   ]
  },
  {
   "cell_type": "code",
   "execution_count": null,
   "metadata": {},
   "outputs": [],
   "source": []
  }
 ],
 "metadata": {
  "kernelspec": {
   "display_name": "Python 3",
   "language": "python",
   "name": "python3"
  },
  "language_info": {
   "codemirror_mode": {
    "name": "ipython",
    "version": 3
   },
   "file_extension": ".py",
   "mimetype": "text/x-python",
   "name": "python",
   "nbconvert_exporter": "python",
   "pygments_lexer": "ipython3",
   "version": "3.6.9"
  }
 },
 "nbformat": 4,
 "nbformat_minor": 2
}
